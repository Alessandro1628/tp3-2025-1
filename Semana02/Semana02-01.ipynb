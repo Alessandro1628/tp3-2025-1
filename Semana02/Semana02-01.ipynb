{
 "cells": [
  {
   "cell_type": "markdown",
   "id": "a256205c-5cf7-44e3-91bb-85710bb0736c",
   "metadata": {},
   "source": [
    "# Semana 02\n",
    "Jostink Alessandro Hernandez Cruces"
   ]
  },
  {
   "cell_type": "markdown",
   "id": "9d41ecf0-2791-4616-8346-4ead7369c352",
   "metadata": {},
   "source": [
    "# Temas\n",
    "\n",
    "1. Colecciones de datos\n",
    "2. Estructuras decicisvas\n",
    "3. Clases y objetos\n",
    "4. Funciones"
   ]
  },
  {
   "cell_type": "markdown",
   "id": "3fbd4471-60ef-4866-90b1-47f7c4f5d3e1",
   "metadata": {},
   "source": [
    "# 1. Colecciones de datos"
   ]
  },
  {
   "cell_type": "code",
   "execution_count": 12,
   "id": "47030b8e-c6eb-47eb-a575-4ef2aa1e37d8",
   "metadata": {},
   "outputs": [],
   "source": [
    "# 1.1. Listas\n",
    "# Es una coleccion de elementos que pueden ser ordenada,\n",
    "# modificando, etc\n",
    "# Se identifica por los corchetes\n",
    "# Ejemplo:\n",
    "aula = ['ALALUNA', 'AVILA', 'CABALNILLAS', 'CAMARGO']"
   ]
  },
  {
   "cell_type": "code",
   "execution_count": 14,
   "id": "3e155021-e446-4ba0-b18d-7e8442872836",
   "metadata": {},
   "outputs": [
    {
     "data": {
      "text/plain": [
       "['ALALUNA', 'AVILA', 'CABALNILLAS', 'CAMARGO']"
      ]
     },
     "execution_count": 14,
     "metadata": {},
     "output_type": "execute_result"
    }
   ],
   "source": [
    "aula"
   ]
  },
  {
   "cell_type": "code",
   "execution_count": 20,
   "id": "ed07a19f-507a-4b04-a33c-1934bba5dfc5",
   "metadata": {},
   "outputs": [
    {
     "data": {
      "text/plain": [
       "['ALALUNA',\n",
       " 'AVILA',\n",
       " 'CABALNILLAS',\n",
       " 'CAMARGO',\n",
       " 'Hermitaño',\n",
       " 'Gomez',\n",
       " 'Hermitaño',\n",
       " 'Gomez',\n",
       " 'Hermitaño',\n",
       " 'Gomez']"
      ]
     },
     "execution_count": 20,
     "metadata": {},
     "output_type": "execute_result"
    }
   ],
   "source": [
    "aula.append(\"Hermitaño\")\n",
    "aula.append(\"Gomez\")\n",
    "aula"
   ]
  },
  {
   "cell_type": "code",
   "execution_count": 31,
   "id": "3822568c-2a1e-4dee-83ba-dfeeba9822e6",
   "metadata": {},
   "outputs": [
    {
     "ename": "ValueError",
     "evalue": "list.remove(x): x not in list",
     "output_type": "error",
     "traceback": [
      "\u001b[1;31m---------------------------------------------------------------------------\u001b[0m",
      "\u001b[1;31mValueError\u001b[0m                                Traceback (most recent call last)",
      "Cell \u001b[1;32mIn[31], line 1\u001b[0m\n\u001b[1;32m----> 1\u001b[0m aula\u001b[38;5;241m.\u001b[39mremove(\u001b[38;5;124m\"\u001b[39m\u001b[38;5;124mALALUNA\u001b[39m\u001b[38;5;124m\"\u001b[39m)\n\u001b[0;32m      2\u001b[0m aula\n",
      "\u001b[1;31mValueError\u001b[0m: list.remove(x): x not in list"
     ]
    }
   ],
   "source": [
    "aula.remove(\"ALALUNA\")\n",
    "aula"
   ]
  },
  {
   "cell_type": "code",
   "execution_count": 33,
   "id": "e858e333-cca6-4ba7-8043-72a722ebcbdc",
   "metadata": {},
   "outputs": [
    {
     "data": {
      "text/plain": [
       "['AVILA',\n",
       " 'CABALNILLAS',\n",
       " 'CAMARGO',\n",
       " 'Hermitaño',\n",
       " 'Gomez',\n",
       " 'Hermitaño',\n",
       " 'Gomez',\n",
       " 'Hermitaño',\n",
       " 'Gomez']"
      ]
     },
     "execution_count": 33,
     "metadata": {},
     "output_type": "execute_result"
    }
   ],
   "source": [
    "aula"
   ]
  },
  {
   "cell_type": "code",
   "execution_count": 37,
   "id": "c5e03f55-33d5-46cf-975a-1de05f27724c",
   "metadata": {},
   "outputs": [
    {
     "data": {
      "text/plain": [
       "'Chavez'"
      ]
     },
     "execution_count": 37,
     "metadata": {},
     "output_type": "execute_result"
    }
   ],
   "source": [
    "aula[1] = 'Chavez'\n",
    "aula[1]"
   ]
  },
  {
   "cell_type": "code",
   "execution_count": null,
   "id": "cd5338e2-d5c4-4753-a4fc-0d1ec6328f76",
   "metadata": {},
   "outputs": [],
   "source": []
  }
 ],
 "metadata": {
  "kernelspec": {
   "display_name": "Python [conda env:base] *",
   "language": "python",
   "name": "conda-base-py"
  },
  "language_info": {
   "codemirror_mode": {
    "name": "ipython",
    "version": 3
   },
   "file_extension": ".py",
   "mimetype": "text/x-python",
   "name": "python",
   "nbconvert_exporter": "python",
   "pygments_lexer": "ipython3",
   "version": "3.12.7"
  }
 },
 "nbformat": 4,
 "nbformat_minor": 5
}

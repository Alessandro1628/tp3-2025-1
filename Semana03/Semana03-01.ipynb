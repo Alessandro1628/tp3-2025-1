{
 "cells": [
  {
   "cell_type": "markdown",
   "id": "d15d6ee6-0eff-42b5-880b-d51bc37fe336",
   "metadata": {},
   "source": [
    "# Semana 03\n",
    "Jostink Alessandro Hernandez Cruces"
   ]
  },
  {
   "cell_type": "markdown",
   "id": "00836cc1-d26e-4925-8975-15bb02589c60",
   "metadata": {},
   "source": [
    "# Temas\n",
    "1. Colecciones de datos\n",
    "2. Estructuras decisivas y estructuras repetitivas\n",
    "3. Clases y objetos\n",
    "4. Funciones"
   ]
  },
  {
   "cell_type": "markdown",
   "id": "f18f4475-0f74-412a-bf3e-c06b803b72d3",
   "metadata": {},
   "source": [
    "# 1. Colecciones"
   ]
  },
  {
   "cell_type": "code",
   "execution_count": 4,
   "id": "abf317ae-2929-443a-8975-a56494143fee",
   "metadata": {},
   "outputs": [
    {
     "name": "stdout",
     "output_type": "stream",
     "text": [
      "['Bernaola', 'Chipana', 'Gomez', 'Navarro']\n"
     ]
    }
   ],
   "source": [
    "# 1.1. Listas\n",
    "# Es una colección de elementos que pueden ser ordenada, modificada, etc...\n",
    "# Se identifica por los corchetes\n",
    "# Ejemplo:\n",
    "aula = ['Bernaola','Chipana','Gomez','Navarro']\n",
    "print(aula)"
   ]
  },
  {
   "cell_type": "code",
   "execution_count": 6,
   "id": "c750d31f-4f89-4302-b886-2c0ec1c63d01",
   "metadata": {},
   "outputs": [
    {
     "data": {
      "text/plain": [
       "['Bernaola', 'Chipana', 'Gomez', 'Navarro']"
      ]
     },
     "execution_count": 6,
     "metadata": {},
     "output_type": "execute_result"
    }
   ],
   "source": [
    "# Tambien se puede imprimir con solo mencionar la lista\n",
    "aula"
   ]
  },
  {
   "cell_type": "code",
   "execution_count": 12,
   "id": "df73afbc-30cb-4244-ae00-9a611b2baece",
   "metadata": {},
   "outputs": [
    {
     "name": "stdout",
     "output_type": "stream",
     "text": [
      "Bernaola\n",
      "Chavez\n",
      "Gomez\n",
      "Navarro\n"
     ]
    }
   ],
   "source": [
    "# Podemos extraer cada elemento por su posición\n",
    "print(aula[0])\n",
    "print(aula[1])\n",
    "print(aula[2])\n",
    "print(aula[3])"
   ]
  },
  {
   "cell_type": "code",
   "execution_count": 14,
   "id": "babf2891-e3e9-4da7-b5d2-05a262c1f6f6",
   "metadata": {},
   "outputs": [
    {
     "data": {
      "text/plain": [
       "'Chavez'"
      ]
     },
     "execution_count": 14,
     "metadata": {},
     "output_type": "execute_result"
    }
   ],
   "source": [
    "# Puedo asignar un valor a una posición de la lista\n",
    "aula[1] = 'Chavez'\n",
    "aula[1]"
   ]
  },
  {
   "cell_type": "code",
   "execution_count": 16,
   "id": "7412460d-6e26-477e-8406-d3ed059624a1",
   "metadata": {},
   "outputs": [
    {
     "data": {
      "text/plain": [
       "['Bernaola', 'Chavez', 'Gomez', 'Navarro']"
      ]
     },
     "execution_count": 16,
     "metadata": {},
     "output_type": "execute_result"
    }
   ],
   "source": [
    "# Mostrar como quedó la lista\n",
    "aula"
   ]
  },
  {
   "cell_type": "code",
   "execution_count": 18,
   "id": "5bc9813b-fd2b-4298-9e65-1974e9068e3c",
   "metadata": {},
   "outputs": [
    {
     "data": {
      "text/plain": [
       "['Bernaola', 'Chavez', 'Gomez', 'Navarro', 'Hermitaño', 'Gomez']"
      ]
     },
     "execution_count": 18,
     "metadata": {},
     "output_type": "execute_result"
    }
   ],
   "source": [
    "# Para agregar un elemento utilizamos append\n",
    "aula.append(\"Hermitaño\")\n",
    "aula.append(\"Gomez\")\n",
    "aula"
   ]
  },
  {
   "cell_type": "code",
   "execution_count": 20,
   "id": "8312b17b-576b-4af0-8205-aef9a60f3c94",
   "metadata": {},
   "outputs": [
    {
     "data": {
      "text/plain": [
       "['Chavez', 'Gomez', 'Navarro', 'Hermitaño', 'Gomez']"
      ]
     },
     "execution_count": 20,
     "metadata": {},
     "output_type": "execute_result"
    }
   ],
   "source": [
    "# Para eliminar elementos utilizamos remove[]\n",
    "aula.remove(\"Bernaola\")\n",
    "aula"
   ]
  },
  {
   "cell_type": "code",
   "execution_count": 22,
   "id": "0cecac0d-af0c-4787-bde4-9dfd8dcde49b",
   "metadata": {},
   "outputs": [
    {
     "data": {
      "text/plain": [
       "['Chavez', 'Navarro', 'Hermitaño', 'Gomez']"
      ]
     },
     "execution_count": 22,
     "metadata": {},
     "output_type": "execute_result"
    }
   ],
   "source": [
    "# Si hubiera varios elementos de valores iguales se elimina la primera coincidencia\n",
    "aula.remove(\"Gomez\")\n",
    "aula"
   ]
  },
  {
   "cell_type": "code",
   "execution_count": 24,
   "id": "319b7de7-845e-4df1-a05d-6dd527086e43",
   "metadata": {},
   "outputs": [
    {
     "data": {
      "text/plain": [
       "4"
      ]
     },
     "execution_count": 24,
     "metadata": {},
     "output_type": "execute_result"
    }
   ],
   "source": [
    "# Para obtener el tamaño de la lista utilizamos len()\n",
    "len(aula)"
   ]
  },
  {
   "cell_type": "code",
   "execution_count": 28,
   "id": "f03acc0f-d7a7-4b65-93f5-18ff7b93db3e",
   "metadata": {},
   "outputs": [
    {
     "name": "stdout",
     "output_type": "stream",
     "text": [
      "Chavez\n",
      "Navarro\n",
      "Hermitaño\n",
      "Gomez\n"
     ]
    }
   ],
   "source": [
    "# Para recorrer podemos utilizar una estructura repetitiva\n",
    "for alumno in aula:\n",
    "    print(alumno)"
   ]
  },
  {
   "cell_type": "code",
   "execution_count": 30,
   "id": "e6784e54-a3ab-46ec-89f9-8f6954bfe365",
   "metadata": {},
   "outputs": [
    {
     "data": {
      "text/plain": [
       "['Gomez', 'Hermitaño', 'Navarro', 'Chavez']"
      ]
     },
     "execution_count": 30,
     "metadata": {},
     "output_type": "execute_result"
    }
   ],
   "source": [
    "# Para invertir la lista utilizamos reverse()\n",
    "# invertir NO significa ordenar en forma descendente sin invertir la lista\n",
    "aula.reverse()\n",
    "aula"
   ]
  },
  {
   "cell_type": "code",
   "execution_count": 32,
   "id": "ba5361e3-3ac1-4f2d-be84-94e28140fb82",
   "metadata": {},
   "outputs": [
    {
     "data": {
      "text/plain": [
       "['Chavez', 'Gomez', 'Hermitaño', 'Navarro']"
      ]
     },
     "execution_count": 32,
     "metadata": {},
     "output_type": "execute_result"
    }
   ],
   "source": [
    "# Para ordenar una lista utilizamos sort()\n",
    "aula.sort()\n",
    "aula"
   ]
  },
  {
   "cell_type": "code",
   "execution_count": 34,
   "id": "5f9df441-5f93-421f-8838-4c9c1ab58004",
   "metadata": {},
   "outputs": [
    {
     "data": {
      "text/plain": [
       "('Bernaola', 'Chipana', 'Gomez', 'Navarro')"
      ]
     },
     "execution_count": 34,
     "metadata": {},
     "output_type": "execute_result"
    }
   ],
   "source": [
    "# 1.2. Tuplas\n",
    "# Es una colección de elementos ordenada\n",
    "# (ordenado significa que tiene un índice)\n",
    "# que no se pueden modificar, es inalterable.\n",
    "# No se pueden agregar elementos ni eliminar.\n",
    "# se identifica por los parentesis\n",
    "tupla_aula = ('Bernaola','Chipana','Gomez','Navarro')\n",
    "tupla_aula"
   ]
  },
  {
   "cell_type": "code",
   "execution_count": 36,
   "id": "a4c157b0-8e44-4d14-a2dd-1f45ccbe7ec6",
   "metadata": {},
   "outputs": [
    {
     "data": {
      "text/plain": [
       "'Gomez'"
      ]
     },
     "execution_count": 36,
     "metadata": {},
     "output_type": "execute_result"
    }
   ],
   "source": [
    "# Se puede extraer un elemento por su posición\n",
    "tupla_aula[2]"
   ]
  },
  {
   "cell_type": "code",
   "execution_count": 84,
   "id": "15b7e6e4-1843-43e3-9e33-c50ecb465995",
   "metadata": {},
   "outputs": [
    {
     "data": {
      "text/plain": [
       "4"
      ]
     },
     "execution_count": 84,
     "metadata": {},
     "output_type": "execute_result"
    }
   ],
   "source": [
    "# Para saber la cantidad de elementos de una tupla utilizamos len()\n",
    "len(tupla_aula)"
   ]
  },
  {
   "cell_type": "code",
   "execution_count": 40,
   "id": "f7615fee-b48e-4456-9106-5c3959271923",
   "metadata": {},
   "outputs": [
    {
     "data": {
      "text/plain": [
       "{'Bernaola', 'Chipana', 'Gomez', 'Navarro'}"
      ]
     },
     "execution_count": 40,
     "metadata": {},
     "output_type": "execute_result"
    }
   ],
   "source": [
    "# 1.3. Conjuntos\n",
    "# Es una colección de elementos que no está ordenada\n",
    "# (significa que no tiene índice)\n",
    "conjunto_aula = {'Bernaola','Chipana','Gomez','Navarro'}\n",
    "conjunto_aula"
   ]
  },
  {
   "cell_type": "code",
   "execution_count": 42,
   "id": "4778262a-dab6-436f-9f6c-fd9f20c50f77",
   "metadata": {},
   "outputs": [
    {
     "name": "stdout",
     "output_type": "stream",
     "text": [
      "Bernaola\n",
      "Navarro\n",
      "Chipana\n",
      "Gomez\n"
     ]
    }
   ],
   "source": [
    "# Se puede recorrer utilizando una estructura repetitiva \n",
    "#Ejemplo: for\n",
    "for alumno in conjunto_aula:\n",
    "    print(alumno)"
   ]
  },
  {
   "cell_type": "code",
   "execution_count": 44,
   "id": "06a360cc-1ce2-4717-abbb-6fde5a6445c9",
   "metadata": {},
   "outputs": [],
   "source": [
    "# Observación: No se puede acceder por posición pues no considera indexación\n",
    "# Ejemplo:\n",
    "# conjunto_ aula[2] devolvería un mensaje de error"
   ]
  },
  {
   "cell_type": "code",
   "execution_count": 46,
   "id": "17aba76d-a169-41be-ab9c-c892bdb2cad7",
   "metadata": {},
   "outputs": [
    {
     "data": {
      "text/plain": [
       "4"
      ]
     },
     "execution_count": 46,
     "metadata": {},
     "output_type": "execute_result"
    }
   ],
   "source": [
    "# Para saber la cantidad de elementos utilizamos len()\n",
    "len(conjunto_aula)"
   ]
  },
  {
   "cell_type": "code",
   "execution_count": 48,
   "id": "2b601d92-1551-4360-bf0b-1beef432c8fb",
   "metadata": {},
   "outputs": [
    {
     "data": {
      "text/plain": [
       "{'Bernaola', 'Chipana', 'Gomez', 'Navarro', 'Palomino'}"
      ]
     },
     "execution_count": 48,
     "metadata": {},
     "output_type": "execute_result"
    }
   ],
   "source": [
    "# Para agregar utilizamos la función add()\n",
    "conjunto_aula.add(\"Palomino\")\n",
    "conjunto_aula"
   ]
  },
  {
   "cell_type": "code",
   "execution_count": 50,
   "id": "c904f51e-8273-4c71-9575-5c4ec4beedac",
   "metadata": {},
   "outputs": [
    {
     "data": {
      "text/plain": [
       "{'Bernaola', 'Gomez', 'Navarro', 'Palomino'}"
      ]
     },
     "execution_count": 50,
     "metadata": {},
     "output_type": "execute_result"
    }
   ],
   "source": [
    "# Para eliminar elementos utilizamos la función remove()\n",
    "conjunto_aula.remove(\"Chipana\")\n",
    "conjunto_aula"
   ]
  },
  {
   "cell_type": "code",
   "execution_count": 52,
   "id": "6e6ec1d2-28ac-4bee-a44b-543cbde65c76",
   "metadata": {},
   "outputs": [
    {
     "data": {
      "text/plain": [
       "{2: 'Bernaola',\n",
       " '1': 'Chipana',\n",
       " 'dos': 'Gomez',\n",
       " '3': 'Navarro',\n",
       " '0': 'Palomino'}"
      ]
     },
     "execution_count": 52,
     "metadata": {},
     "output_type": "execute_result"
    }
   ],
   "source": [
    "# 1.4. Diccionarios\n",
    "# Es una colección de elementos, que estan indexados,\n",
    "# no estas ordenados y se pueden modificar\n",
    "# Son escritos entre llaves y estan formados por pares de elementos\n",
    "# INDICE:VALOR\n",
    "diccionario_aula = {2:'Bernaola','1':'Chipana','dos':'Gomez','3':'Navarro','0':'Palomino'}\n",
    "diccionario_aula"
   ]
  },
  {
   "cell_type": "code",
   "execution_count": 62,
   "id": "82d2974c-31e3-41fd-aa05-b1fb9bfce58f",
   "metadata": {},
   "outputs": [
    {
     "data": {
      "text/plain": [
       "'Palomino'"
      ]
     },
     "execution_count": 62,
     "metadata": {},
     "output_type": "execute_result"
    }
   ],
   "source": [
    "# Del diccionario: diccionario_aula extraer el valor cuyo indice sea cero\n",
    "diccionario_aula['0']"
   ]
  },
  {
   "cell_type": "code",
   "execution_count": 64,
   "id": "6d7c5546-1b18-4413-bae3-c52a919b4999",
   "metadata": {},
   "outputs": [
    {
     "data": {
      "text/plain": [
       "'Bernaola'"
      ]
     },
     "execution_count": 64,
     "metadata": {},
     "output_type": "execute_result"
    }
   ],
   "source": [
    "diccionario_aula[2]"
   ]
  },
  {
   "cell_type": "code",
   "execution_count": 66,
   "id": "cc4aa3cd-a8e6-422b-b01d-d66dbaf90044",
   "metadata": {},
   "outputs": [
    {
     "data": {
      "text/plain": [
       "'Gomez'"
      ]
     },
     "execution_count": 66,
     "metadata": {},
     "output_type": "execute_result"
    }
   ],
   "source": [
    "diccionario_aula['dos']"
   ]
  },
  {
   "cell_type": "code",
   "execution_count": 68,
   "id": "62eb4ba6-a596-4a21-98a3-cc7475a93750",
   "metadata": {},
   "outputs": [
    {
     "data": {
      "text/plain": [
       "{2: 'Bernaola',\n",
       " '1': 'Chipana',\n",
       " 'dos': 'Gomez',\n",
       " '3': 'Navarro',\n",
       " '0': 'Palomino',\n",
       " '20': 'Vilca'}"
      ]
     },
     "execution_count": 68,
     "metadata": {},
     "output_type": "execute_result"
    }
   ],
   "source": [
    "# Para añadir un par de elementos al diccionario hacemos:\n",
    "diccionario_aula['20'] = \"Vilca\"\n",
    "diccionario_aula"
   ]
  },
  {
   "cell_type": "code",
   "execution_count": 70,
   "id": "08a7f4f5-6d85-4839-bbc5-a4c67a4cb971",
   "metadata": {},
   "outputs": [
    {
     "data": {
      "text/plain": [
       "'Bernaola'"
      ]
     },
     "execution_count": 70,
     "metadata": {},
     "output_type": "execute_result"
    }
   ],
   "source": [
    "# Para eliminar un valor se utiliza pop()\n",
    "# Por ejemplo, eliminar el elemento de índice dos\n",
    "diccionario_aula.pop(2)"
   ]
  },
  {
   "cell_type": "code",
   "execution_count": 72,
   "id": "1a70105b-f44c-46ee-b5a7-f8392542e755",
   "metadata": {},
   "outputs": [
    {
     "data": {
      "text/plain": [
       "{'1': 'Chipana',\n",
       " 'dos': 'Gomez',\n",
       " '3': 'Navarro',\n",
       " '0': 'Palomino',\n",
       " '20': 'Vilca'}"
      ]
     },
     "execution_count": 72,
     "metadata": {},
     "output_type": "execute_result"
    }
   ],
   "source": [
    "diccionario_aula"
   ]
  },
  {
   "cell_type": "code",
   "execution_count": 74,
   "id": "f2eff4f3-d301-44ce-9f3c-f869430e1a4d",
   "metadata": {},
   "outputs": [
    {
     "data": {
      "text/plain": [
       "{'1': 'Chipana', '3': 'Navarro', '0': 'Palomino', '20': 'Vilca'}"
      ]
     },
     "execution_count": 74,
     "metadata": {},
     "output_type": "execute_result"
    }
   ],
   "source": [
    "# Tambien se puede eliminar utilizando del()\n",
    "del(diccionario_aula[\"dos\"])\n",
    "diccionario_aula"
   ]
  },
  {
   "cell_type": "code",
   "execution_count": 76,
   "id": "59f80933-7c6a-4b75-8e29-3381cb392a8e",
   "metadata": {},
   "outputs": [
    {
     "name": "stdout",
     "output_type": "stream",
     "text": [
      "1\n",
      "3\n",
      "0\n",
      "20\n"
     ]
    }
   ],
   "source": [
    "# Para recorrer todos los elementos podemos utilizar for\n",
    "# En este ejemplo devuelve los indices\n",
    "for indice in diccionario_aula:\n",
    "    print(indice)"
   ]
  },
  {
   "cell_type": "code",
   "execution_count": 78,
   "id": "856fdf1a-63f3-4e8a-b7ff-63cfb321b867",
   "metadata": {},
   "outputs": [
    {
     "name": "stdout",
     "output_type": "stream",
     "text": [
      "1\n",
      "3\n",
      "0\n",
      "20\n"
     ]
    }
   ],
   "source": [
    "# Para obtener el indice y el valor de cada elemento utilizamos items()\n",
    "for indice, valor in diccionario_aula.items():\n",
    "    print(indice)"
   ]
  },
  {
   "cell_type": "code",
   "execution_count": 80,
   "id": "a95bfcb1-2797-4c1f-8a9e-d73b8b4de9ae",
   "metadata": {},
   "outputs": [],
   "source": [
    "# 1.5. Ejercicio \n",
    "# Dado una lista de [BERNAL, BERNAOLA, CABALLERO, CALDERON, CARRASCO, \n",
    "# CENTENO, CHALQUE, CHAVEZ, CONDORI, CRUZ, PALACIOS, PALOMINO, QUISPE, \n",
    "# RAMOS, RODAS, SILVERA, TALAVERA, TINEO, VICTORIO, VILCA, ZEA] \n",
    "# Diseñar un código que muestre si el apellido de un estudiante (Ingresado por teclado) \n",
    "# forma parte de la lista \n",
    "# tiempo: 12 minutos"
   ]
  },
  {
   "cell_type": "code",
   "execution_count": 82,
   "id": "ad1a6630-4020-4195-af13-565904155405",
   "metadata": {},
   "outputs": [
    {
     "data": {
      "text/plain": [
       "['BERNAL',\n",
       " 'BERNAOLA',\n",
       " 'CABALLERO',\n",
       " 'CALDERON',\n",
       " 'CARRASCO',\n",
       " 'CENTENO',\n",
       " 'CHALQUE',\n",
       " 'CHAVEZ',\n",
       " 'CONDORI',\n",
       " 'CRUZ',\n",
       " 'PALACIOS',\n",
       " 'PALOMINO',\n",
       " 'QUISPE',\n",
       " 'RAMOS',\n",
       " 'RODAS',\n",
       " 'SILVERA',\n",
       " 'TALAVERA',\n",
       " 'TINEO',\n",
       " 'VICTORIO',\n",
       " 'VILCA',\n",
       " 'ZEA']"
      ]
     },
     "execution_count": 82,
     "metadata": {},
     "output_type": "execute_result"
    }
   ],
   "source": [
    "lista = ['BERNAL', 'BERNAOLA', 'CABALLERO', 'CALDERON', 'CARRASCO', 'CENTENO', 'CHALQUE', 'CHAVEZ', 'CONDORI', 'CRUZ', 'PALACIOS', 'PALOMINO', 'QUISPE','RAMOS', 'RODAS', 'SILVERA', 'TALAVERA', 'TINEO', 'VICTORIO', 'VILCA', 'ZEA']\n",
    "lista"
   ]
  },
  {
   "cell_type": "code",
   "execution_count": 114,
   "id": "ccaa81ad-b0f5-4ba2-8757-5ef3055695d4",
   "metadata": {},
   "outputs": [
    {
     "name": "stdin",
     "output_type": "stream",
     "text": [
      "  ZEA\n"
     ]
    },
    {
     "name": "stdout",
     "output_type": "stream",
     "text": [
      "ZEA forma parte de la lista\n"
     ]
    }
   ],
   "source": [
    "estudiante = input(\" \")\n",
    "if estudiante in lista:\n",
    "    print(estudiante + \" forma parte de la lista\")\n",
    "else:\n",
    "    print(estudiante + \" no forma parte de la lista\")"
   ]
  },
  {
   "cell_type": "code",
   "execution_count": null,
   "id": "3a668e3e-6893-4ae0-a752-742615b40a40",
   "metadata": {},
   "outputs": [],
   "source": []
  }
 ],
 "metadata": {
  "kernelspec": {
   "display_name": "Python [conda env:base] *",
   "language": "python",
   "name": "conda-base-py"
  },
  "language_info": {
   "codemirror_mode": {
    "name": "ipython",
    "version": 3
   },
   "file_extension": ".py",
   "mimetype": "text/x-python",
   "name": "python",
   "nbconvert_exporter": "python",
   "pygments_lexer": "ipython3",
   "version": "3.12.7"
  }
 },
 "nbformat": 4,
 "nbformat_minor": 5
}
